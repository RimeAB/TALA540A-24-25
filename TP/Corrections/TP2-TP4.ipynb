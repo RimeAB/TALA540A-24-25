{
 "cells": [
  {
   "cell_type": "markdown",
   "id": "f70b7798-6a60-47c0-96ec-19b6da6cc29a",
   "metadata": {},
   "source": [
    "# Model Spacy 1"
   ]
  },
  {
   "cell_type": "code",
   "execution_count": 39,
   "id": "18830522-1a69-4dfd-a02a-feed4fc73e08",
   "metadata": {},
   "outputs": [],
   "source": [
    "import spacy\n",
    "from spacy.tokens import DocBin, Doc\n",
    "from collections import defaultdict\n",
    "from pathlib import Path\n",
    "from spacy.training import Example\n",
    "import numpy as np\n",
    "import conllu"
   ]
  },
  {
   "cell_type": "code",
   "execution_count": null,
   "id": "10ea01f5-0e89-46a4-8ec2-47add402c284",
   "metadata": {},
   "outputs": [],
   "source": [
    "def load_conllu(filepath):\n",
    "    sentences = []\n",
    "    current_sentence = []\n",
    "    with open(filepath, 'r', encoding='utf-8') as f:\n",
    "        for line in f:\n",
    "            if line.startswith('#') or line.strip() == \"\":\n",
    "                if current_sentence:\n",
    "                    sentences.append(current_sentence)\n",
    "                    current_sentence = []\n",
    "                continue\n",
    "            parts = line.split('\\t')\n",
    "            form, upos = parts[1], parts[3]  # FORM = index 1, UPOS = index 3\n",
    "            current_sentence.append((form, upos))\n",
    "    return sentences\n",
    "\n",
    "# Charger les fichiers d'entraînement et de test\n",
    "train_sentences = load_conllu('fr_sequoia-ud-train.conllu')\n",
    "test_sentences = load_conllu('fr_sequoia-ud-test.conllu')"
   ]
  },
  {
   "cell_type": "code",
   "execution_count": 2,
   "id": "254fb972-ccad-418e-978a-1414e6bcbdbf",
   "metadata": {},
   "outputs": [
    {
     "name": "stdout",
     "output_type": "stream",
     "text": [
      "Iteration 1, Losses: {'tagger': 48811.299599051476}\n",
      "Iteration 2, Losses: {'tagger': 48461.90775358677}\n",
      "Iteration 3, Losses: {'tagger': 47802.87590819597}\n",
      "Iteration 4, Losses: {'tagger': 46732.400437533855}\n",
      "Iteration 5, Losses: {'tagger': 45203.09264320135}\n",
      "Iteration 6, Losses: {'tagger': 43237.79304814339}\n",
      "Iteration 7, Losses: {'tagger': 40939.65230512619}\n",
      "Iteration 8, Losses: {'tagger': 38398.05596917868}\n",
      "Iteration 9, Losses: {'tagger': 35666.776502370834}\n",
      "Iteration 10, Losses: {'tagger': 32806.08341109753}\n",
      "Iteration 11, Losses: {'tagger': 29927.871662646532}\n",
      "Iteration 12, Losses: {'tagger': 27204.808541819453}\n",
      "Iteration 13, Losses: {'tagger': 24768.57587067783}\n",
      "Iteration 14, Losses: {'tagger': 22693.50382053107}\n",
      "Iteration 15, Losses: {'tagger': 20980.072894398123}\n",
      "Iteration 16, Losses: {'tagger': 19514.17832305096}\n",
      "Iteration 17, Losses: {'tagger': 18154.839920865837}\n",
      "Iteration 18, Losses: {'tagger': 16846.84522873338}\n",
      "Iteration 19, Losses: {'tagger': 15617.490646868304}\n",
      "Iteration 20, Losses: {'tagger': 14506.822949848647}\n"
     ]
    }
   ],
   "source": [
    "def train_spacy_model(train_data, n_iter=20):\n",
    "    nlp = spacy.blank(\"fr\")  #créer un modèle vide pour le français\n",
    "    tagger = nlp.add_pipe(\"tagger\")  #un pipeline pour le tagger\n",
    "\n",
    "    #ajouter les étiquettes (UPOS) au modèle\n",
    "    for sentence in train_data:\n",
    "        for _, upos in sentence:\n",
    "            tagger.add_label(upos)\n",
    "\n",
    "    #préparer les exemples d'entraînement\n",
    "    train_examples = []\n",
    "    for sentence in train_data:\n",
    "        words = [token[0] for token in sentence]\n",
    "        tags = [token[1] for token in sentence]\n",
    "        doc = Doc(nlp.vocab, words=words)\n",
    "        example = Example.from_dict(doc, {\"tags\": tags})\n",
    "        train_examples.append(example)\n",
    "\n",
    "    #configurer l'optimiseur\n",
    "    optimizer = nlp.initialize()\n",
    "\n",
    "    #entraîner le modèle sur plusieurs itérations\n",
    "    for i in range(n_iter):\n",
    "        losses = {}\n",
    "        nlp.update(train_examples, sgd=optimizer, losses=losses)\n",
    "        print(f\"Iteration {i + 1}, Losses: {losses}\")\n",
    "\n",
    "    return nlp\n",
    "\n",
    "# Entraîner le modèle sur les données d'entraînement\n",
    "nlp = train_spacy_model(train_sentences)\n"
   ]
  },
  {
   "cell_type": "code",
   "execution_count": 10,
   "id": "2f1465df-608e-4fab-b136-cd2069f048ca",
   "metadata": {},
   "outputs": [
    {
     "name": "stdout",
     "output_type": "stream",
     "text": [
      "Modèle enregistré dans spacy_model/model-1\n"
     ]
    }
   ],
   "source": [
    "# Enregistrement \n",
    "def save_spacy_model(nlp, output_dir):\n",
    "    output_dir = Path(output_dir)\n",
    "    if not output_dir.exists():\n",
    "        output_dir.mkdir()\n",
    "    nlp.to_disk(output_dir)\n",
    "    print(f\"Modèle enregistré dans {output_dir}\")\n",
    "\n",
    "# Exemple d'utilisation après entraînement\n",
    "save_spacy_model(nlp, './spacy_model/model-1')  # Chemin d'enregistrement du modèle\n",
    "\n"
   ]
  },
  {
   "cell_type": "code",
   "execution_count": 20,
   "id": "441a70f4-99c2-4bb9-9f48-cbd5942484b6",
   "metadata": {},
   "outputs": [
    {
     "name": "stdout",
     "output_type": "stream",
     "text": [
      "Class PRON - Precision: 50.47%, Recall: 39.27%, F1: 44.17%\n",
      "Class NOUN - Precision: 41.25%, Recall: 48.40%, F1: 44.54%\n",
      "Class VERB - Precision: 29.62%, Recall: 39.44%, F1: 33.83%\n",
      "Class SCONJ - Precision: 36.00%, Recall: 25.47%, F1: 29.83%\n",
      "Class DET - Precision: 44.98%, Recall: 43.23%, F1: 44.09%\n",
      "Class ADJ - Precision: 32.46%, Recall: 17.55%, F1: 22.79%\n",
      "Class PUNCT - Precision: 44.39%, Recall: 54.06%, F1: 48.75%\n",
      "Class ADV - Precision: 51.26%, Recall: 14.84%, F1: 23.02%\n",
      "Class NUM - Precision: 57.89%, Recall: 9.05%, F1: 15.66%\n",
      "Class ADP - Precision: 47.83%, Recall: 47.80%, F1: 47.81%\n",
      "Class PROPN - Precision: 40.03%, Recall: 53.77%, F1: 45.89%\n",
      "Class CCONJ - Precision: 36.73%, Recall: 37.56%, F1: 37.14%\n",
      "Class AUX - Precision: 44.74%, Recall: 39.42%, F1: 41.91%\n",
      "Class _ - Precision: 37.15%, Recall: 38.71%, F1: 37.91%\n",
      "Class X - Precision: 0.00%, Recall: 0.00%, F1: 0.00%\n",
      "Class SYM - Precision: 0.00%, Recall: 0.00%, F1: 0.00%\n",
      "Sentence accuracy: 8.11%\n",
      "F1-macro: 32.33%\n",
      "F1-micro: 41.96%\n"
     ]
    }
   ],
   "source": [
    "test_sentences = load_conllu('fr_sequoia-ud-test.conllu')\n",
    "# Evaluation\n",
    "def evaluate_spacy_model(nlp, test_data):\n",
    "    true_labels = []\n",
    "    pred_labels = []\n",
    "    sentence_accuracy = []\n",
    "    class_metrics = defaultdict(lambda: {\"tp\": 0, \"fp\": 0, \"fn\": 0})\n",
    "\n",
    "    for sentence in test_data:\n",
    "        doc = nlp(\" \".join([token[0] for token in sentence]))\n",
    "        true = [token[1] for token in sentence]\n",
    "        pred = [token.tag_ for token in doc]\n",
    "        true_labels.extend(true)\n",
    "        pred_labels.extend(pred)\n",
    "\n",
    "        #accuracy par énoncé\n",
    "        sentence_accuracy.append(int(true == pred))\n",
    "        \n",
    "        #TP, FP, FN par classe\n",
    "        for t, p in zip(true, pred):\n",
    "            if t == p:\n",
    "                class_metrics[t][\"tp\"] += 1\n",
    "            else:\n",
    "                class_metrics[t][\"fn\"] += 1\n",
    "                class_metrics[p][\"fp\"] += 1\n",
    "\n",
    "    #précisions, rappels et F1 pour chaque classe\n",
    "    for label, metrics in class_metrics.items():\n",
    "        tp = metrics[\"tp\"]\n",
    "        fp = metrics[\"fp\"]\n",
    "        fn = metrics[\"fn\"]\n",
    "        precision = (tp / (tp + fp) * 100) if (tp + fp) > 0 else 0\n",
    "        recall = (tp / (tp + fn) * 100) if (tp + fn) > 0 else 0\n",
    "        f1 = (2 * precision * recall / (precision + recall)) if (precision + recall) > 0 else 0\n",
    "        print(f\"Class {label} - Precision: {precision:.2f}%, Recall: {recall:.2f}%, F1: {f1:.2f}%\")\n",
    "    \n",
    "    # F1-macro (moyenne des F1 scores par classe)\n",
    "    f1_macro = np.mean([2 * m[\"tp\"] / (2 * m[\"tp\"] + m[\"fp\"] + m[\"fn\"]) * 100 for m in class_metrics.values()])\n",
    "    \n",
    "    # F1-micro (calcul des TP, FP, FN globalement)\n",
    "    total_tp = sum(m[\"tp\"] for m in class_metrics.values())\n",
    "    total_fp = sum(m[\"fp\"] for m in class_metrics.values())\n",
    "    total_fn = sum(m[\"fn\"] for m in class_metrics.values())\n",
    "    precision_micro = total_tp / (total_tp + total_fp) * 100\n",
    "    recall_micro = total_tp / (total_tp + total_fn) * 100\n",
    "    f1_micro = 2 * precision_micro * recall_micro / (precision_micro + recall_micro)\n",
    "    \n",
    "    print(f\"Sentence accuracy: {np.mean(sentence_accuracy) * 100:.2f}%\")\n",
    "    print(f\"F1-macro: {f1_macro:.2f}%\")\n",
    "    print(f\"F1-micro: {f1_micro:.2f}%\")\n",
    "\n",
    "#Chargement du modèle et évaluation \n",
    "nlp = spacy.load('./spacy_model/model-1')\n",
    "evaluate_spacy_model(nlp, test_data)\n"
   ]
  },
  {
   "cell_type": "code",
   "execution_count": 21,
   "id": "b6cefec9-b525-41d1-9d20-a4302c6be4bb",
   "metadata": {},
   "outputs": [
    {
     "name": "stdout",
     "output_type": "stream",
     "text": [
      "Nombre de séquences longues: 139\n",
      "Class PRON - Precision: 46.02%, Recall: 35.68%, F1: 40.20%\n",
      "Class NOUN - Precision: 36.13%, Recall: 42.79%, F1: 39.18%\n",
      "Class VERB - Precision: 26.14%, Recall: 37.17%, F1: 30.69%\n",
      "Class SCONJ - Precision: 31.82%, Recall: 23.73%, F1: 27.18%\n",
      "Class DET - Precision: 38.66%, Recall: 36.89%, F1: 37.75%\n",
      "Class ADJ - Precision: 27.22%, Recall: 13.10%, F1: 17.69%\n",
      "Class PUNCT - Precision: 36.34%, Recall: 45.69%, F1: 40.48%\n",
      "Class ADV - Precision: 35.29%, Recall: 8.45%, F1: 13.64%\n",
      "Class NUM - Precision: 45.00%, Recall: 6.67%, F1: 11.61%\n",
      "Class ADP - Precision: 42.42%, Recall: 42.22%, F1: 42.32%\n",
      "Class PROPN - Precision: 39.71%, Recall: 44.48%, F1: 41.96%\n",
      "Class CCONJ - Precision: 26.49%, Recall: 27.78%, F1: 27.12%\n",
      "Class _ - Precision: 32.34%, Recall: 33.33%, F1: 32.83%\n",
      "Class AUX - Precision: 38.75%, Recall: 33.88%, F1: 36.15%\n",
      "Class X - Precision: 0.00%, Recall: 0.00%, F1: 0.00%\n",
      "Class SYM - Precision: 0.00%, Recall: 0.00%, F1: 0.00%\n",
      "Sentence accuracy: 0.00%\n",
      "F1-macro: 27.43%\n",
      "F1-micro: 36.53%\n"
     ]
    }
   ],
   "source": [
    "def long_sequences(sentences, threshold=29):\n",
    "    return [sentence for sentence in sentences if len(sentence) > threshold]\n",
    "\n",
    "long_test_sentences = long_sequences(test_sentences)\n",
    "print(f\"Nombre de séquences longues: {len(long_test_sentences)}\")\n",
    "evaluate_spacy_model(nlp, long_test_sentences)\n"
   ]
  },
  {
   "cell_type": "code",
   "execution_count": 22,
   "id": "3d4368f0-a84d-4a83-9934-a1f8b23b24b2",
   "metadata": {},
   "outputs": [
    {
     "name": "stdout",
     "output_type": "stream",
     "text": [
      "Nombre de séquences avec OOV: 314\n",
      "Class PRON - Precision: 50.74%, Recall: 37.85%, F1: 43.35%\n",
      "Class NOUN - Precision: 38.89%, Recall: 46.29%, F1: 42.27%\n",
      "Class VERB - Precision: 28.51%, Recall: 37.26%, F1: 32.30%\n",
      "Class SCONJ - Precision: 37.50%, Recall: 26.97%, F1: 31.37%\n",
      "Class DET - Precision: 43.20%, Recall: 41.63%, F1: 42.40%\n",
      "Class ADJ - Precision: 29.68%, Recall: 16.00%, F1: 20.79%\n",
      "Class PUNCT - Precision: 43.02%, Recall: 52.63%, F1: 47.34%\n",
      "Class ADV - Precision: 46.24%, Recall: 12.15%, F1: 19.24%\n",
      "Class NUM - Precision: 44.83%, Recall: 6.67%, F1: 11.61%\n",
      "Class ADP - Precision: 44.83%, Recall: 45.05%, F1: 44.94%\n",
      "Class PROPN - Precision: 39.05%, Recall: 51.12%, F1: 44.28%\n",
      "Class CCONJ - Precision: 35.32%, Recall: 36.41%, F1: 35.86%\n",
      "Class AUX - Precision: 42.80%, Recall: 38.08%, F1: 40.30%\n",
      "Class _ - Precision: 33.92%, Recall: 35.40%, F1: 34.64%\n",
      "Class X - Precision: 0.00%, Recall: 0.00%, F1: 0.00%\n",
      "Class SYM - Precision: 0.00%, Recall: 0.00%, F1: 0.00%\n",
      "Sentence accuracy: 3.18%\n",
      "F1-macro: 30.67%\n",
      "F1-micro: 39.98%\n"
     ]
    }
   ],
   "source": [
    "def find_oov(train_data, test_data):\n",
    "    train_vocab = set(token[0] for sentence in train_data for token in sentence)\n",
    "    oov_sentences = []\n",
    "    for sentence in test_data:\n",
    "        if any(token[0] not in train_vocab for token in sentence):\n",
    "            oov_sentences.append(sentence)\n",
    "    return oov_sentences\n",
    "\n",
    "oov_test_sentences = find_oov(train_sentences, test_sentences)\n",
    "print(f\"Nombre de séquences avec OOV: {len(oov_test_sentences)}\")\n",
    "evaluate_spacy_model(nlp, oov_test_sentences)\n"
   ]
  },
  {
   "cell_type": "markdown",
   "id": "3140a0ff-e793-4b82-be9b-52404d9740ac",
   "metadata": {},
   "source": [
    "# Model Spacy 2\n",
    "**Réentrainer un modèle pré-entrainé (le transfer-learning)**"
   ]
  },
  {
   "cell_type": "code",
   "execution_count": 14,
   "id": "1a1d749d-5ee8-411a-882b-c8295b736043",
   "metadata": {},
   "outputs": [
    {
     "name": "stdout",
     "output_type": "stream",
     "text": [
      "\u001b[38;5;4mℹ Grouping every 1 sentences into a document.\u001b[0m\n",
      "\u001b[38;5;3m⚠ To generate better training data, you may want to group sentences\n",
      "into documents with `-n 10`.\u001b[0m\n",
      "\u001b[38;5;2m✔ Generated output file (2231 documents): fr_sequoia-ud-train.spacy\u001b[0m\n",
      "\u001b[38;5;4mℹ Grouping every 1 sentences into a document.\u001b[0m\n",
      "\u001b[38;5;3m⚠ To generate better training data, you may want to group sentences\n",
      "into documents with `-n 10`.\u001b[0m\n",
      "\u001b[38;5;2m✔ Generated output file (412 documents): fr_sequoia-ud-dev.spacy\u001b[0m\n",
      "\u001b[38;5;4mℹ Grouping every 1 sentences into a document.\u001b[0m\n",
      "\u001b[38;5;3m⚠ To generate better training data, you may want to group sentences\n",
      "into documents with `-n 10`.\u001b[0m\n",
      "\u001b[38;5;2m✔ Generated output file (456 documents): fr_sequoia-ud-test.spacy\u001b[0m\n",
      "Collecting fr-core-news-md==3.7.0\n",
      "  Downloading https://github.com/explosion/spacy-models/releases/download/fr_core_news_md-3.7.0/fr_core_news_md-3.7.0-py3-none-any.whl (45.8 MB)\n",
      "\u001b[2K     \u001b[90m━━━━━━━━━━━━━━━━━━━━━━━━━━━━━━━━━━━━━━━━\u001b[0m \u001b[32m45.8/45.8 MB\u001b[0m \u001b[31m53.6 MB/s\u001b[0m eta \u001b[36m0:00:00\u001b[0m00:01\u001b[0m00:01\u001b[0m\n",
      "\u001b[?25hRequirement already satisfied: spacy<3.8.0,>=3.7.0 in /Users/rime/opt/anaconda3/envs/inalco/lib/python3.9/site-packages (from fr-core-news-md==3.7.0) (3.7.6)\n",
      "Requirement already satisfied: spacy-legacy<3.1.0,>=3.0.11 in /Users/rime/opt/anaconda3/envs/inalco/lib/python3.9/site-packages (from spacy<3.8.0,>=3.7.0->fr-core-news-md==3.7.0) (3.0.12)\n",
      "Requirement already satisfied: spacy-loggers<2.0.0,>=1.0.0 in /Users/rime/opt/anaconda3/envs/inalco/lib/python3.9/site-packages (from spacy<3.8.0,>=3.7.0->fr-core-news-md==3.7.0) (1.0.5)\n",
      "Requirement already satisfied: murmurhash<1.1.0,>=0.28.0 in /Users/rime/opt/anaconda3/envs/inalco/lib/python3.9/site-packages (from spacy<3.8.0,>=3.7.0->fr-core-news-md==3.7.0) (1.0.10)\n",
      "Requirement already satisfied: cymem<2.1.0,>=2.0.2 in /Users/rime/opt/anaconda3/envs/inalco/lib/python3.9/site-packages (from spacy<3.8.0,>=3.7.0->fr-core-news-md==3.7.0) (2.0.8)\n",
      "Requirement already satisfied: preshed<3.1.0,>=3.0.2 in /Users/rime/opt/anaconda3/envs/inalco/lib/python3.9/site-packages (from spacy<3.8.0,>=3.7.0->fr-core-news-md==3.7.0) (3.0.9)\n",
      "Requirement already satisfied: thinc<8.3.0,>=8.2.2 in /Users/rime/opt/anaconda3/envs/inalco/lib/python3.9/site-packages (from spacy<3.8.0,>=3.7.0->fr-core-news-md==3.7.0) (8.2.5)\n",
      "Requirement already satisfied: wasabi<1.2.0,>=0.9.1 in /Users/rime/opt/anaconda3/envs/inalco/lib/python3.9/site-packages (from spacy<3.8.0,>=3.7.0->fr-core-news-md==3.7.0) (1.1.3)\n",
      "Requirement already satisfied: srsly<3.0.0,>=2.4.3 in /Users/rime/opt/anaconda3/envs/inalco/lib/python3.9/site-packages (from spacy<3.8.0,>=3.7.0->fr-core-news-md==3.7.0) (2.4.8)\n",
      "Requirement already satisfied: catalogue<2.1.0,>=2.0.6 in /Users/rime/opt/anaconda3/envs/inalco/lib/python3.9/site-packages (from spacy<3.8.0,>=3.7.0->fr-core-news-md==3.7.0) (2.0.10)\n",
      "Requirement already satisfied: weasel<0.5.0,>=0.1.0 in /Users/rime/opt/anaconda3/envs/inalco/lib/python3.9/site-packages (from spacy<3.8.0,>=3.7.0->fr-core-news-md==3.7.0) (0.4.1)\n",
      "Requirement already satisfied: typer<1.0.0,>=0.3.0 in /Users/rime/opt/anaconda3/envs/inalco/lib/python3.9/site-packages (from spacy<3.8.0,>=3.7.0->fr-core-news-md==3.7.0) (0.12.5)\n",
      "Requirement already satisfied: tqdm<5.0.0,>=4.38.0 in /Users/rime/opt/anaconda3/envs/inalco/lib/python3.9/site-packages (from spacy<3.8.0,>=3.7.0->fr-core-news-md==3.7.0) (4.66.5)\n",
      "Requirement already satisfied: requests<3.0.0,>=2.13.0 in /Users/rime/opt/anaconda3/envs/inalco/lib/python3.9/site-packages (from spacy<3.8.0,>=3.7.0->fr-core-news-md==3.7.0) (2.32.3)\n",
      "Requirement already satisfied: pydantic!=1.8,!=1.8.1,<3.0.0,>=1.7.4 in /Users/rime/opt/anaconda3/envs/inalco/lib/python3.9/site-packages (from spacy<3.8.0,>=3.7.0->fr-core-news-md==3.7.0) (2.9.1)\n",
      "Requirement already satisfied: jinja2 in /Users/rime/opt/anaconda3/envs/inalco/lib/python3.9/site-packages (from spacy<3.8.0,>=3.7.0->fr-core-news-md==3.7.0) (3.1.4)\n",
      "Requirement already satisfied: setuptools in /Users/rime/opt/anaconda3/envs/inalco/lib/python3.9/site-packages (from spacy<3.8.0,>=3.7.0->fr-core-news-md==3.7.0) (72.1.0)\n",
      "Requirement already satisfied: packaging>=20.0 in /Users/rime/opt/anaconda3/envs/inalco/lib/python3.9/site-packages (from spacy<3.8.0,>=3.7.0->fr-core-news-md==3.7.0) (24.1)\n",
      "Requirement already satisfied: langcodes<4.0.0,>=3.2.0 in /Users/rime/opt/anaconda3/envs/inalco/lib/python3.9/site-packages (from spacy<3.8.0,>=3.7.0->fr-core-news-md==3.7.0) (3.4.0)\n",
      "Requirement already satisfied: numpy>=1.19.0 in /Users/rime/opt/anaconda3/envs/inalco/lib/python3.9/site-packages (from spacy<3.8.0,>=3.7.0->fr-core-news-md==3.7.0) (1.26.4)\n",
      "Requirement already satisfied: language-data>=1.2 in /Users/rime/opt/anaconda3/envs/inalco/lib/python3.9/site-packages (from langcodes<4.0.0,>=3.2.0->spacy<3.8.0,>=3.7.0->fr-core-news-md==3.7.0) (1.2.0)\n",
      "Requirement already satisfied: annotated-types>=0.6.0 in /Users/rime/opt/anaconda3/envs/inalco/lib/python3.9/site-packages (from pydantic!=1.8,!=1.8.1,<3.0.0,>=1.7.4->spacy<3.8.0,>=3.7.0->fr-core-news-md==3.7.0) (0.7.0)\n",
      "Requirement already satisfied: pydantic-core==2.23.3 in /Users/rime/opt/anaconda3/envs/inalco/lib/python3.9/site-packages (from pydantic!=1.8,!=1.8.1,<3.0.0,>=1.7.4->spacy<3.8.0,>=3.7.0->fr-core-news-md==3.7.0) (2.23.3)\n",
      "Requirement already satisfied: typing-extensions>=4.6.1 in /Users/rime/opt/anaconda3/envs/inalco/lib/python3.9/site-packages (from pydantic!=1.8,!=1.8.1,<3.0.0,>=1.7.4->spacy<3.8.0,>=3.7.0->fr-core-news-md==3.7.0) (4.12.2)\n",
      "Requirement already satisfied: charset-normalizer<4,>=2 in /Users/rime/opt/anaconda3/envs/inalco/lib/python3.9/site-packages (from requests<3.0.0,>=2.13.0->spacy<3.8.0,>=3.7.0->fr-core-news-md==3.7.0) (3.3.2)\n",
      "Requirement already satisfied: idna<4,>=2.5 in /Users/rime/opt/anaconda3/envs/inalco/lib/python3.9/site-packages (from requests<3.0.0,>=2.13.0->spacy<3.8.0,>=3.7.0->fr-core-news-md==3.7.0) (3.10)\n",
      "Requirement already satisfied: urllib3<3,>=1.21.1 in /Users/rime/opt/anaconda3/envs/inalco/lib/python3.9/site-packages (from requests<3.0.0,>=2.13.0->spacy<3.8.0,>=3.7.0->fr-core-news-md==3.7.0) (2.2.3)\n",
      "Requirement already satisfied: certifi>=2017.4.17 in /Users/rime/opt/anaconda3/envs/inalco/lib/python3.9/site-packages (from requests<3.0.0,>=2.13.0->spacy<3.8.0,>=3.7.0->fr-core-news-md==3.7.0) (2024.8.30)\n",
      "Requirement already satisfied: blis<0.8.0,>=0.7.8 in /Users/rime/opt/anaconda3/envs/inalco/lib/python3.9/site-packages (from thinc<8.3.0,>=8.2.2->spacy<3.8.0,>=3.7.0->fr-core-news-md==3.7.0) (0.7.11)\n",
      "Requirement already satisfied: confection<1.0.0,>=0.0.1 in /Users/rime/opt/anaconda3/envs/inalco/lib/python3.9/site-packages (from thinc<8.3.0,>=8.2.2->spacy<3.8.0,>=3.7.0->fr-core-news-md==3.7.0) (0.1.5)\n",
      "Requirement already satisfied: click>=8.0.0 in /Users/rime/opt/anaconda3/envs/inalco/lib/python3.9/site-packages (from typer<1.0.0,>=0.3.0->spacy<3.8.0,>=3.7.0->fr-core-news-md==3.7.0) (8.1.7)\n",
      "Requirement already satisfied: shellingham>=1.3.0 in /Users/rime/opt/anaconda3/envs/inalco/lib/python3.9/site-packages (from typer<1.0.0,>=0.3.0->spacy<3.8.0,>=3.7.0->fr-core-news-md==3.7.0) (1.5.4)\n",
      "Requirement already satisfied: rich>=10.11.0 in /Users/rime/opt/anaconda3/envs/inalco/lib/python3.9/site-packages (from typer<1.0.0,>=0.3.0->spacy<3.8.0,>=3.7.0->fr-core-news-md==3.7.0) (13.8.1)\n",
      "Requirement already satisfied: cloudpathlib<1.0.0,>=0.7.0 in /Users/rime/opt/anaconda3/envs/inalco/lib/python3.9/site-packages (from weasel<0.5.0,>=0.1.0->spacy<3.8.0,>=3.7.0->fr-core-news-md==3.7.0) (0.19.0)\n",
      "Requirement already satisfied: smart-open<8.0.0,>=5.2.1 in /Users/rime/opt/anaconda3/envs/inalco/lib/python3.9/site-packages (from weasel<0.5.0,>=0.1.0->spacy<3.8.0,>=3.7.0->fr-core-news-md==3.7.0) (7.0.4)\n",
      "Requirement already satisfied: MarkupSafe>=2.0 in /Users/rime/opt/anaconda3/envs/inalco/lib/python3.9/site-packages (from jinja2->spacy<3.8.0,>=3.7.0->fr-core-news-md==3.7.0) (2.1.5)\n",
      "Requirement already satisfied: marisa-trie>=0.7.7 in /Users/rime/opt/anaconda3/envs/inalco/lib/python3.9/site-packages (from language-data>=1.2->langcodes<4.0.0,>=3.2.0->spacy<3.8.0,>=3.7.0->fr-core-news-md==3.7.0) (1.2.0)\n",
      "Requirement already satisfied: markdown-it-py>=2.2.0 in /Users/rime/opt/anaconda3/envs/inalco/lib/python3.9/site-packages (from rich>=10.11.0->typer<1.0.0,>=0.3.0->spacy<3.8.0,>=3.7.0->fr-core-news-md==3.7.0) (3.0.0)\n",
      "Requirement already satisfied: pygments<3.0.0,>=2.13.0 in /Users/rime/opt/anaconda3/envs/inalco/lib/python3.9/site-packages (from rich>=10.11.0->typer<1.0.0,>=0.3.0->spacy<3.8.0,>=3.7.0->fr-core-news-md==3.7.0) (2.18.0)\n",
      "Requirement already satisfied: wrapt in /Users/rime/opt/anaconda3/envs/inalco/lib/python3.9/site-packages (from smart-open<8.0.0,>=5.2.1->weasel<0.5.0,>=0.1.0->spacy<3.8.0,>=3.7.0->fr-core-news-md==3.7.0) (1.16.0)\n",
      "Requirement already satisfied: mdurl~=0.1 in /Users/rime/opt/anaconda3/envs/inalco/lib/python3.9/site-packages (from markdown-it-py>=2.2.0->rich>=10.11.0->typer<1.0.0,>=0.3.0->spacy<3.8.0,>=3.7.0->fr-core-news-md==3.7.0) (0.1.2)\n",
      "\u001b[38;5;2m✔ Download and installation successful\u001b[0m\n",
      "You can now load the package via spacy.load('fr_core_news_md')\n",
      "\n",
      "\u001b[38;5;1m✘ The provided output file already exists. To force overwriting the\n",
      "config file, set the --force or -F flag.\u001b[0m\n",
      "\n",
      "\u001b[38;5;3m⚠ Nothing to auto-fill: base config is already complete\u001b[0m\n",
      "\u001b[38;5;2m✔ Saved config\u001b[0m\n",
      "config.cfg\n",
      "You can now add your data and train your pipeline:\n",
      "python -m spacy train config.cfg --paths.train ./train.spacy --paths.dev ./dev.spacy\n"
     ]
    }
   ],
   "source": [
    "!python -m spacy convert ./fr_sequoia-ud-train.conllu ./ --converter conllu\n",
    "!python -m spacy convert ./fr_sequoia-ud-dev.conllu ./ --converter conllu\n",
    "!python -m spacy convert ./fr_sequoia-ud-test.conllu ./ --converter conllu\n",
    "!python -m spacy download fr_core_news_md\n",
    "!python -m spacy init config ./base_config.cfg --lang fr --pipeline tagger\n",
    "!python -m spacy init fill-config ./base_config.cfg ./config.cfg\n"
   ]
  },
  {
   "cell_type": "code",
   "execution_count": 15,
   "id": "9c869ece-850a-4348-a846-418debd8f401",
   "metadata": {},
   "outputs": [
    {
     "name": "stdout",
     "output_type": "stream",
     "text": [
      "\u001b[38;5;4mℹ Saving to output directory: spacy_model\u001b[0m\n",
      "\u001b[38;5;4mℹ Using CPU\u001b[0m\n",
      "\u001b[38;5;4mℹ To switch to GPU 0, use the option: --gpu-id 0\u001b[0m\n",
      "\u001b[1m\n",
      "=========================== Initializing pipeline ===========================\u001b[0m\n",
      "\u001b[38;5;2m✔ Initialized pipeline\u001b[0m\n",
      "\u001b[1m\n",
      "============================= Training pipeline =============================\u001b[0m\n",
      "\u001b[38;5;4mℹ Pipeline: ['tok2vec', 'tagger']\u001b[0m\n",
      "\u001b[38;5;4mℹ Initial learn rate: 0.001\u001b[0m\n",
      "E    #       LOSS TOK2VEC  LOSS TAGGER  TAG_ACC  SCORE \n",
      "---  ------  ------------  -----------  -------  ------\n",
      "  0       0          0.00        66.37    28.13    0.28\n",
      "  0     200        138.88      4805.39    89.11    0.89\n",
      "  0     400        157.22      2291.00    91.64    0.92\n",
      "  1     600        111.68      1500.52    92.95    0.93\n",
      "  2     800        103.61      1375.04    93.26    0.93\n",
      "  3    1000         72.17       946.46    93.54    0.94\n",
      "  4    1200         48.92       670.30    93.75    0.94\n",
      "  5    1400         37.94       543.17    93.60    0.94\n",
      "  7    1600         29.17       437.20    93.91    0.94\n",
      "  9    1800         20.18       321.55    93.63    0.94\n",
      " 12    2000         17.85       298.18    93.65    0.94\n",
      " 15    2200         12.40       218.53    93.71    0.94\n",
      " 19    2400          9.44       173.37    93.64    0.94\n",
      " 23    2600          7.19       136.41    93.60    0.94\n",
      " 27    2800          5.37       107.77    93.67    0.94\n",
      " 31    3000          4.73        96.28    93.57    0.94\n",
      " 35    3200          4.20        87.30    93.65    0.94\n",
      "\u001b[38;5;2m✔ Saved pipeline to output directory\u001b[0m\n",
      "spacy_model/model-last\n"
     ]
    }
   ],
   "source": [
    "!python -m spacy train ./config.cfg --output ./spacy_model/ --paths.train ./fr_sequoia-ud-train.spacy --paths.dev ./fr_sequoia-ud-dev.spacy \n"
   ]
  },
  {
   "cell_type": "code",
   "execution_count": 37,
   "id": "9c2357bf-e527-4783-abee-c8200ac3ce31",
   "metadata": {},
   "outputs": [
    {
     "data": {
      "image/png": "[encoded data removed]",
      "text/plain": [
       "<Figure size 1000x500 with 2 Axes>"
      ]
     },
     "metadata": {},
     "output_type": "display_data"
    }
   ],
   "source": [
    "import matplotlib.pyplot as plt\n",
    "\n",
    "# Données du tableau\n",
    "epochs = [0, 200, 400, 600, 800, 1000, 1200, 1400, 1600, 1800, 2000, 2200, 2400, 2600, 2800, 3000, 3200]\n",
    "loss_tagger = [66.37, 4805.39, 2291.00, 1500.52, 1375.04, 946.46, 670.30, 543.17, 437.20, 321.55, 298.18, 218.53, 173.37, 136.41, 107.77, 96.28, 87.30]\n",
    "tag_acc = [28.13, 89.11, 91.64, 92.95, 93.26, 93.54, 93.75, 93.60, 93.91, 93.63, 93.65, 93.71, 93.64, 93.60, 93.67, 93.57, 93.65]\n",
    "\n",
    "# Créer le graphique pour la perte\n",
    "plt.figure(figsize=(10, 5))\n",
    "\n",
    "# Perte du tagger\n",
    "plt.subplot(1, 2, 1)\n",
    "plt.plot(epochs, loss_tagger, marker='o', color='b', label='Loss Tagger')\n",
    "plt.title('Courbe de perte (Tagger Loss)')\n",
    "plt.xlabel('Nombre d\\'itérations')\n",
    "plt.ylabel('Perte')\n",
    "plt.grid(True)\n",
    "\n",
    "# Précision du tagger\n",
    "plt.subplot(1, 2, 2)\n",
    "plt.plot(epochs, tag_acc, marker='o', color='g', label='Tag Accuracy')\n",
    "plt.title('Courbe de précision (Tagger Accuracy)')\n",
    "plt.xlabel('Nombre d\\'itérations')\n",
    "plt.ylabel('Précision (%)')\n",
    "plt.grid(True)\n",
    "\n",
    "plt.tight_layout()\n",
    "plt.show()\n"
   ]
  },
  {
   "cell_type": "markdown",
   "id": "2b5cc871-3f8a-441e-a282-2949922a12b6",
   "metadata": {},
   "source": [
    "# Explication simple des courbes :\n",
    "## Courbe de perte (en bleu) :\n",
    "Au début de l'entraînement, la perte est élevée, ce qui signifie que le modèle fait encore beaucoup d’erreurs.\n",
    "Rapidement, la perte diminue, ce qui montre que le modèle apprend à mieux prédire les étiquettes.\n",
    "Après quelques centaines d'itérations, la perte continue de baisser, mais plus lentement, indiquant une amélioration plus progressive.\n",
    "## Courbe de précision (en vert) :\n",
    "La précision augmente très vite au début : on passe de 28 % à près de 90 % en quelques itérations.\n",
    "Ensuite, la courbe se stabilise autour de 93-94 %, montrant que le modèle atteint un bon niveau de performance.\n",
    "\n",
    "## En résumé :\n",
    "- Perte : Elle diminue, preuve que le modèle apprend efficacement.\n",
    "- Précision : Elle grimpe rapidement et se stabilise, montrant que le modèle fonctionne bien et que l'entraînement est sur la bonne voie.\n",
    "\n",
    "Pour une évaluation complète, il est utile d'inclure les courbes de validation. Cela permet de voir comment le modèle se comporte sur des données qu'il n'a pas rencontrées pendant l'entraînement et d'identifier un potentiel surapprentissage."
   ]
  },
  {
   "cell_type": "code",
   "execution_count": 38,
   "id": "d0af0ec0-0d2c-4035-b2a5-d056283655bb",
   "metadata": {},
   "outputs": [
    {
     "name": "stdout",
     "output_type": "stream",
     "text": [
      "Class PRON - Precision: 47.41%, Recall: 49.02%, F1: 48.20%\n",
      "Class VERB - Precision: 39.15%, Recall: 46.22%, F1: 42.40%\n",
      "Class SCONJ - Precision: 50.00%, Recall: 39.62%, F1: 44.21%\n",
      "Class DET - Precision: 46.92%, Recall: 42.83%, F1: 44.78%\n",
      "Class NOUN - Precision: 46.53%, Recall: 51.87%, F1: 49.06%\n",
      "Class ADJ - Precision: 42.61%, Recall: 46.08%, F1: 44.28%\n",
      "Class PUNCT - Precision: 45.56%, Recall: 53.04%, F1: 49.02%\n",
      "Class ADV - Precision: 51.33%, Recall: 46.96%, F1: 49.05%\n",
      "Class NUM - Precision: 56.18%, Recall: 58.02%, F1: 57.09%\n",
      "Class ADP - Precision: 49.83%, Recall: 45.53%, F1: 47.59%\n",
      "Class PROPN - Precision: 56.67%, Recall: 57.74%, F1: 57.20%\n",
      "Class CCONJ - Precision: 39.30%, Recall: 40.72%, F1: 40.00%\n",
      "Class AUX - Precision: 52.14%, Recall: 53.04%, F1: 52.59%\n",
      "Class _ - Precision: 0.00%, Recall: 0.00%, F1: 0.00%\n",
      "Class X - Precision: 83.33%, Recall: 27.78%, F1: 41.67%\n",
      "Class SYM - Precision: 100.00%, Recall: 50.00%, F1: 66.67%\n",
      "Sentence accuracy: 25.00%\n",
      "F1-macro: 45.86%\n",
      "F1-micro: 47.05%\n"
     ]
    }
   ],
   "source": [
    "# Charger le modèle entraîné depuis le disque\n",
    "nlp2 = spacy.load('./spacy_model/model-last')\n",
    "# Évaluer le modèle sur les données de test\n",
    "evaluate_spacy_model(nlp2, test_data)"
   ]
  }
 ],
 "metadata": {
  "kernelspec": {
   "display_name": "Python 3 (ipykernel)",
   "language": "python",
   "name": "python3"
  },
  "language_info": {
   "codemirror_mode": {
    "name": "ipython",
    "version": 3
   },
   "file_extension": ".py",
   "mimetype": "text/x-python",
   "name": "python",
   "nbconvert_exporter": "python",
   "pygments_lexer": "ipython3",
   "version": "3.9.19"
  }
 },
 "nbformat": 4,
 "nbformat_minor": 5
}
